{
 "cells": [
  {
   "cell_type": "markdown",
   "metadata": {},
   "source": [
    "## 建立資料庫引擎"
   ]
  },
  {
   "cell_type": "code",
   "execution_count": 1,
   "metadata": {},
   "outputs": [],
   "source": [
    "from sqlalchemy import create_engine\n",
    "\n",
    "engine = create_engine('sqlite+pysqlite:///data/nobel_prize\", echo=True, future=True')"
   ]
  },
  {
   "cell_type": "markdown",
   "metadata": {},
   "source": [
    "## 定義資料庫表格\n",
    "\n",
    "這裡可參考：https://docs.sqlalchemy.org/en/13/orm/extensions/declarative/basic_use.html"
   ]
  },
  {
   "cell_type": "code",
   "execution_count": 2,
   "metadata": {},
   "outputs": [],
   "source": [
    "from sqlalchemy.ext.declarative import declarative_base\n",
    "\n",
    "Base = declarative_base()"
   ]
  },
  {
   "cell_type": "code",
   "execution_count": 19,
   "metadata": {},
   "outputs": [
    {
     "name": "stderr",
     "output_type": "stream",
     "text": [
      "/tmp/ipykernel_8429/2377975308.py:3: SAWarning: This declarative base already contains a class with the same class name and module name as __main__.Winner, and will be replaced in the string-lookup table.\n",
      "  class Winner(Base):\n"
     ]
    },
    {
     "ename": "InvalidRequestError",
     "evalue": "Table 'winners' is already defined for this MetaData instance.  Specify 'extend_existing=True' to redefine options and columns on an existing Table object.",
     "output_type": "error",
     "traceback": [
      "\u001b[0;31m---------------------------------------------------------------------------\u001b[0m",
      "\u001b[0;31mInvalidRequestError\u001b[0m                       Traceback (most recent call last)",
      "\u001b[1;32m/home/megoo/Desktop/Github/dataviz_flask_web/data_processing/sql.ipynb Cell 5'\u001b[0m in \u001b[0;36m<cell line: 3>\u001b[0;34m()\u001b[0m\n\u001b[1;32m      <a href='vscode-notebook-cell:/home/megoo/Desktop/Github/dataviz_flask_web/data_processing/sql.ipynb#ch0000005?line=0'>1</a>\u001b[0m \u001b[39mfrom\u001b[39;00m \u001b[39msqlalchemy\u001b[39;00m \u001b[39mimport\u001b[39;00m Column, Integer, String, Enum\n\u001b[0;32m----> <a href='vscode-notebook-cell:/home/megoo/Desktop/Github/dataviz_flask_web/data_processing/sql.ipynb#ch0000005?line=2'>3</a>\u001b[0m \u001b[39mclass\u001b[39;00m \u001b[39mWinner\u001b[39;00m(Base):\n\u001b[1;32m      <a href='vscode-notebook-cell:/home/megoo/Desktop/Github/dataviz_flask_web/data_processing/sql.ipynb#ch0000005?line=3'>4</a>\u001b[0m \n\u001b[1;32m      <a href='vscode-notebook-cell:/home/megoo/Desktop/Github/dataviz_flask_web/data_processing/sql.ipynb#ch0000005?line=4'>5</a>\u001b[0m     \u001b[39m# 命名SQL表格\u001b[39;00m\n\u001b[1;32m      <a href='vscode-notebook-cell:/home/megoo/Desktop/Github/dataviz_flask_web/data_processing/sql.ipynb#ch0000005?line=5'>6</a>\u001b[0m     __tablename__ \u001b[39m=\u001b[39m \u001b[39m'\u001b[39m\u001b[39mwinners\u001b[39m\u001b[39m'\u001b[39m\n\u001b[1;32m      <a href='vscode-notebook-cell:/home/megoo/Desktop/Github/dataviz_flask_web/data_processing/sql.ipynb#ch0000005?line=7'>8</a>\u001b[0m     \u001b[39mid\u001b[39m \u001b[39m=\u001b[39m Column(Integer, primary_key\u001b[39m=\u001b[39m\u001b[39mTrue\u001b[39;00m)\n",
      "File \u001b[0;32m~/anaconda3/envs/py39/lib/python3.9/site-packages/sqlalchemy/orm/decl_api.py:76\u001b[0m, in \u001b[0;36mDeclarativeMeta.__init__\u001b[0;34m(cls, classname, bases, dict_, **kw)\u001b[0m\n\u001b[1;32m     <a href='file:///home/megoo/anaconda3/envs/py39/lib/python3.9/site-packages/sqlalchemy/orm/decl_api.py?line=72'>73</a>\u001b[0m         \u001b[39mcls\u001b[39m\u001b[39m.\u001b[39m_sa_registry \u001b[39m=\u001b[39m reg\n\u001b[1;32m     <a href='file:///home/megoo/anaconda3/envs/py39/lib/python3.9/site-packages/sqlalchemy/orm/decl_api.py?line=74'>75</a>\u001b[0m \u001b[39mif\u001b[39;00m \u001b[39mnot\u001b[39;00m \u001b[39mcls\u001b[39m\u001b[39m.\u001b[39m\u001b[39m__dict__\u001b[39m\u001b[39m.\u001b[39mget(\u001b[39m\"\u001b[39m\u001b[39m__abstract__\u001b[39m\u001b[39m\"\u001b[39m, \u001b[39mFalse\u001b[39;00m):\n\u001b[0;32m---> <a href='file:///home/megoo/anaconda3/envs/py39/lib/python3.9/site-packages/sqlalchemy/orm/decl_api.py?line=75'>76</a>\u001b[0m     _as_declarative(reg, \u001b[39mcls\u001b[39;49m, dict_)\n\u001b[1;32m     <a href='file:///home/megoo/anaconda3/envs/py39/lib/python3.9/site-packages/sqlalchemy/orm/decl_api.py?line=76'>77</a>\u001b[0m \u001b[39mtype\u001b[39m\u001b[39m.\u001b[39m\u001b[39m__init__\u001b[39m(\u001b[39mcls\u001b[39m, classname, bases, dict_)\n",
      "File \u001b[0;32m~/anaconda3/envs/py39/lib/python3.9/site-packages/sqlalchemy/orm/decl_base.py:126\u001b[0m, in \u001b[0;36m_as_declarative\u001b[0;34m(registry, cls, dict_)\u001b[0m\n\u001b[1;32m    <a href='file:///home/megoo/anaconda3/envs/py39/lib/python3.9/site-packages/sqlalchemy/orm/decl_base.py?line=120'>121</a>\u001b[0m \u001b[39mdef\u001b[39;00m \u001b[39m_as_declarative\u001b[39m(registry, \u001b[39mcls\u001b[39m, dict_):\n\u001b[1;32m    <a href='file:///home/megoo/anaconda3/envs/py39/lib/python3.9/site-packages/sqlalchemy/orm/decl_base.py?line=121'>122</a>\u001b[0m \n\u001b[1;32m    <a href='file:///home/megoo/anaconda3/envs/py39/lib/python3.9/site-packages/sqlalchemy/orm/decl_base.py?line=122'>123</a>\u001b[0m     \u001b[39m# declarative scans the class for attributes.  no table or mapper\u001b[39;00m\n\u001b[1;32m    <a href='file:///home/megoo/anaconda3/envs/py39/lib/python3.9/site-packages/sqlalchemy/orm/decl_base.py?line=123'>124</a>\u001b[0m     \u001b[39m# args passed separately.\u001b[39;00m\n\u001b[0;32m--> <a href='file:///home/megoo/anaconda3/envs/py39/lib/python3.9/site-packages/sqlalchemy/orm/decl_base.py?line=125'>126</a>\u001b[0m     \u001b[39mreturn\u001b[39;00m _MapperConfig\u001b[39m.\u001b[39;49msetup_mapping(registry, \u001b[39mcls\u001b[39;49m, dict_, \u001b[39mNone\u001b[39;49;00m, {})\n",
      "File \u001b[0;32m~/anaconda3/envs/py39/lib/python3.9/site-packages/sqlalchemy/orm/decl_base.py:183\u001b[0m, in \u001b[0;36m_MapperConfig.setup_mapping\u001b[0;34m(cls, registry, cls_, dict_, table, mapper_kw)\u001b[0m\n\u001b[1;32m    <a href='file:///home/megoo/anaconda3/envs/py39/lib/python3.9/site-packages/sqlalchemy/orm/decl_base.py?line=179'>180</a>\u001b[0m \u001b[39melse\u001b[39;00m:\n\u001b[1;32m    <a href='file:///home/megoo/anaconda3/envs/py39/lib/python3.9/site-packages/sqlalchemy/orm/decl_base.py?line=180'>181</a>\u001b[0m     cfg_cls \u001b[39m=\u001b[39m _ClassScanMapperConfig\n\u001b[0;32m--> <a href='file:///home/megoo/anaconda3/envs/py39/lib/python3.9/site-packages/sqlalchemy/orm/decl_base.py?line=182'>183</a>\u001b[0m \u001b[39mreturn\u001b[39;00m cfg_cls(registry, cls_, dict_, table, mapper_kw)\n",
      "File \u001b[0;32m~/anaconda3/envs/py39/lib/python3.9/site-packages/sqlalchemy/orm/decl_base.py:331\u001b[0m, in \u001b[0;36m_ClassScanMapperConfig.__init__\u001b[0;34m(self, registry, cls_, dict_, table, mapper_kw)\u001b[0m\n\u001b[1;32m    <a href='file:///home/megoo/anaconda3/envs/py39/lib/python3.9/site-packages/sqlalchemy/orm/decl_base.py?line=326'>327</a>\u001b[0m \u001b[39mself\u001b[39m\u001b[39m.\u001b[39m_extract_mappable_attributes()\n\u001b[1;32m    <a href='file:///home/megoo/anaconda3/envs/py39/lib/python3.9/site-packages/sqlalchemy/orm/decl_base.py?line=328'>329</a>\u001b[0m \u001b[39mself\u001b[39m\u001b[39m.\u001b[39m_extract_declared_columns()\n\u001b[0;32m--> <a href='file:///home/megoo/anaconda3/envs/py39/lib/python3.9/site-packages/sqlalchemy/orm/decl_base.py?line=330'>331</a>\u001b[0m \u001b[39mself\u001b[39;49m\u001b[39m.\u001b[39;49m_setup_table(table)\n\u001b[1;32m    <a href='file:///home/megoo/anaconda3/envs/py39/lib/python3.9/site-packages/sqlalchemy/orm/decl_base.py?line=332'>333</a>\u001b[0m \u001b[39mself\u001b[39m\u001b[39m.\u001b[39m_setup_inheritance(mapper_kw)\n\u001b[1;32m    <a href='file:///home/megoo/anaconda3/envs/py39/lib/python3.9/site-packages/sqlalchemy/orm/decl_base.py?line=334'>335</a>\u001b[0m \u001b[39mself\u001b[39m\u001b[39m.\u001b[39m_early_mapping(mapper_kw)\n",
      "File \u001b[0;32m~/anaconda3/envs/py39/lib/python3.9/site-packages/sqlalchemy/orm/decl_base.py:820\u001b[0m, in \u001b[0;36m_ClassScanMapperConfig._setup_table\u001b[0;34m(self, table)\u001b[0m\n\u001b[1;32m    <a href='file:///home/megoo/anaconda3/envs/py39/lib/python3.9/site-packages/sqlalchemy/orm/decl_base.py?line=814'>815</a>\u001b[0m         \u001b[39mif\u001b[39;00m autoload:\n\u001b[1;32m    <a href='file:///home/megoo/anaconda3/envs/py39/lib/python3.9/site-packages/sqlalchemy/orm/decl_base.py?line=815'>816</a>\u001b[0m             table_kw[\u001b[39m\"\u001b[39m\u001b[39mautoload\u001b[39m\u001b[39m\"\u001b[39m] \u001b[39m=\u001b[39m \u001b[39mTrue\u001b[39;00m\n\u001b[1;32m    <a href='file:///home/megoo/anaconda3/envs/py39/lib/python3.9/site-packages/sqlalchemy/orm/decl_base.py?line=817'>818</a>\u001b[0m         table \u001b[39m=\u001b[39m \u001b[39mself\u001b[39m\u001b[39m.\u001b[39mset_cls_attribute(\n\u001b[1;32m    <a href='file:///home/megoo/anaconda3/envs/py39/lib/python3.9/site-packages/sqlalchemy/orm/decl_base.py?line=818'>819</a>\u001b[0m             \u001b[39m\"\u001b[39m\u001b[39m__table__\u001b[39m\u001b[39m\"\u001b[39m,\n\u001b[0;32m--> <a href='file:///home/megoo/anaconda3/envs/py39/lib/python3.9/site-packages/sqlalchemy/orm/decl_base.py?line=819'>820</a>\u001b[0m             table_cls(\n\u001b[1;32m    <a href='file:///home/megoo/anaconda3/envs/py39/lib/python3.9/site-packages/sqlalchemy/orm/decl_base.py?line=820'>821</a>\u001b[0m                 tablename,\n\u001b[1;32m    <a href='file:///home/megoo/anaconda3/envs/py39/lib/python3.9/site-packages/sqlalchemy/orm/decl_base.py?line=821'>822</a>\u001b[0m                 \u001b[39mself\u001b[39;49m\u001b[39m.\u001b[39;49m_metadata_for_cls(manager),\n\u001b[1;32m    <a href='file:///home/megoo/anaconda3/envs/py39/lib/python3.9/site-packages/sqlalchemy/orm/decl_base.py?line=822'>823</a>\u001b[0m                 \u001b[39m*\u001b[39;49m(\u001b[39mtuple\u001b[39;49m(declared_columns) \u001b[39m+\u001b[39;49m \u001b[39mtuple\u001b[39;49m(args)),\n\u001b[1;32m    <a href='file:///home/megoo/anaconda3/envs/py39/lib/python3.9/site-packages/sqlalchemy/orm/decl_base.py?line=823'>824</a>\u001b[0m                 \u001b[39m*\u001b[39;49m\u001b[39m*\u001b[39;49mtable_kw\n\u001b[1;32m    <a href='file:///home/megoo/anaconda3/envs/py39/lib/python3.9/site-packages/sqlalchemy/orm/decl_base.py?line=824'>825</a>\u001b[0m             ),\n\u001b[1;32m    <a href='file:///home/megoo/anaconda3/envs/py39/lib/python3.9/site-packages/sqlalchemy/orm/decl_base.py?line=825'>826</a>\u001b[0m         )\n\u001b[1;32m    <a href='file:///home/megoo/anaconda3/envs/py39/lib/python3.9/site-packages/sqlalchemy/orm/decl_base.py?line=826'>827</a>\u001b[0m \u001b[39melse\u001b[39;00m:\n\u001b[1;32m    <a href='file:///home/megoo/anaconda3/envs/py39/lib/python3.9/site-packages/sqlalchemy/orm/decl_base.py?line=827'>828</a>\u001b[0m     \u001b[39mif\u001b[39;00m table \u001b[39mis\u001b[39;00m \u001b[39mNone\u001b[39;00m:\n",
      "File \u001b[0;32m<string>:2\u001b[0m, in \u001b[0;36m__new__\u001b[0;34m(cls, *args, **kw)\u001b[0m\n",
      "File \u001b[0;32m~/anaconda3/envs/py39/lib/python3.9/site-packages/sqlalchemy/util/deprecations.py:309\u001b[0m, in \u001b[0;36mdeprecated_params.<locals>.decorate.<locals>.warned\u001b[0;34m(fn, *args, **kwargs)\u001b[0m\n\u001b[1;32m    <a href='file:///home/megoo/anaconda3/envs/py39/lib/python3.9/site-packages/sqlalchemy/util/deprecations.py?line=301'>302</a>\u001b[0m     \u001b[39mif\u001b[39;00m m \u001b[39min\u001b[39;00m kwargs:\n\u001b[1;32m    <a href='file:///home/megoo/anaconda3/envs/py39/lib/python3.9/site-packages/sqlalchemy/util/deprecations.py?line=302'>303</a>\u001b[0m         _warn_with_version(\n\u001b[1;32m    <a href='file:///home/megoo/anaconda3/envs/py39/lib/python3.9/site-packages/sqlalchemy/util/deprecations.py?line=303'>304</a>\u001b[0m             messages[m],\n\u001b[1;32m    <a href='file:///home/megoo/anaconda3/envs/py39/lib/python3.9/site-packages/sqlalchemy/util/deprecations.py?line=304'>305</a>\u001b[0m             versions[m],\n\u001b[1;32m    <a href='file:///home/megoo/anaconda3/envs/py39/lib/python3.9/site-packages/sqlalchemy/util/deprecations.py?line=305'>306</a>\u001b[0m             version_warnings[m],\n\u001b[1;32m    <a href='file:///home/megoo/anaconda3/envs/py39/lib/python3.9/site-packages/sqlalchemy/util/deprecations.py?line=306'>307</a>\u001b[0m             stacklevel\u001b[39m=\u001b[39m\u001b[39m3\u001b[39m,\n\u001b[1;32m    <a href='file:///home/megoo/anaconda3/envs/py39/lib/python3.9/site-packages/sqlalchemy/util/deprecations.py?line=307'>308</a>\u001b[0m         )\n\u001b[0;32m--> <a href='file:///home/megoo/anaconda3/envs/py39/lib/python3.9/site-packages/sqlalchemy/util/deprecations.py?line=308'>309</a>\u001b[0m \u001b[39mreturn\u001b[39;00m fn(\u001b[39m*\u001b[39;49margs, \u001b[39m*\u001b[39;49m\u001b[39m*\u001b[39;49mkwargs)\n",
      "File \u001b[0;32m~/anaconda3/envs/py39/lib/python3.9/site-packages/sqlalchemy/sql/schema.py:593\u001b[0m, in \u001b[0;36mTable.__new__\u001b[0;34m(cls, *args, **kw)\u001b[0m\n\u001b[1;32m    <a href='file:///home/megoo/anaconda3/envs/py39/lib/python3.9/site-packages/sqlalchemy/sql/schema.py?line=590'>591</a>\u001b[0m \u001b[39mif\u001b[39;00m key \u001b[39min\u001b[39;00m metadata\u001b[39m.\u001b[39mtables:\n\u001b[1;32m    <a href='file:///home/megoo/anaconda3/envs/py39/lib/python3.9/site-packages/sqlalchemy/sql/schema.py?line=591'>592</a>\u001b[0m     \u001b[39mif\u001b[39;00m \u001b[39mnot\u001b[39;00m keep_existing \u001b[39mand\u001b[39;00m \u001b[39mnot\u001b[39;00m extend_existing \u001b[39mand\u001b[39;00m \u001b[39mbool\u001b[39m(args):\n\u001b[0;32m--> <a href='file:///home/megoo/anaconda3/envs/py39/lib/python3.9/site-packages/sqlalchemy/sql/schema.py?line=592'>593</a>\u001b[0m         \u001b[39mraise\u001b[39;00m exc\u001b[39m.\u001b[39mInvalidRequestError(\n\u001b[1;32m    <a href='file:///home/megoo/anaconda3/envs/py39/lib/python3.9/site-packages/sqlalchemy/sql/schema.py?line=593'>594</a>\u001b[0m             \u001b[39m\"\u001b[39m\u001b[39mTable \u001b[39m\u001b[39m'\u001b[39m\u001b[39m%s\u001b[39;00m\u001b[39m'\u001b[39m\u001b[39m is already defined for this MetaData \u001b[39m\u001b[39m\"\u001b[39m\n\u001b[1;32m    <a href='file:///home/megoo/anaconda3/envs/py39/lib/python3.9/site-packages/sqlalchemy/sql/schema.py?line=594'>595</a>\u001b[0m             \u001b[39m\"\u001b[39m\u001b[39minstance.  Specify \u001b[39m\u001b[39m'\u001b[39m\u001b[39mextend_existing=True\u001b[39m\u001b[39m'\u001b[39m\u001b[39m \u001b[39m\u001b[39m\"\u001b[39m\n\u001b[1;32m    <a href='file:///home/megoo/anaconda3/envs/py39/lib/python3.9/site-packages/sqlalchemy/sql/schema.py?line=595'>596</a>\u001b[0m             \u001b[39m\"\u001b[39m\u001b[39mto redefine \u001b[39m\u001b[39m\"\u001b[39m\n\u001b[1;32m    <a href='file:///home/megoo/anaconda3/envs/py39/lib/python3.9/site-packages/sqlalchemy/sql/schema.py?line=596'>597</a>\u001b[0m             \u001b[39m\"\u001b[39m\u001b[39moptions and columns on an \u001b[39m\u001b[39m\"\u001b[39m\n\u001b[1;32m    <a href='file:///home/megoo/anaconda3/envs/py39/lib/python3.9/site-packages/sqlalchemy/sql/schema.py?line=597'>598</a>\u001b[0m             \u001b[39m\"\u001b[39m\u001b[39mexisting Table object.\u001b[39m\u001b[39m\"\u001b[39m \u001b[39m%\u001b[39m key\n\u001b[1;32m    <a href='file:///home/megoo/anaconda3/envs/py39/lib/python3.9/site-packages/sqlalchemy/sql/schema.py?line=598'>599</a>\u001b[0m         )\n\u001b[1;32m    <a href='file:///home/megoo/anaconda3/envs/py39/lib/python3.9/site-packages/sqlalchemy/sql/schema.py?line=599'>600</a>\u001b[0m     table \u001b[39m=\u001b[39m metadata\u001b[39m.\u001b[39mtables[key]\n\u001b[1;32m    <a href='file:///home/megoo/anaconda3/envs/py39/lib/python3.9/site-packages/sqlalchemy/sql/schema.py?line=600'>601</a>\u001b[0m     \u001b[39mif\u001b[39;00m extend_existing:\n",
      "\u001b[0;31mInvalidRequestError\u001b[0m: Table 'winners' is already defined for this MetaData instance.  Specify 'extend_existing=True' to redefine options and columns on an existing Table object."
     ]
    }
   ],
   "source": [
    "from sqlalchemy import Column, Integer, String, Enum\n",
    "\n",
    "class Winner(Base):\n",
    "\n",
    "    # 命名SQL表格\n",
    "    __tablename__ = 'winners'\n",
    "\n",
    "    id = Column(Integer, primary_key=True)\n",
    "    name = Column(String)\n",
    "    category = Column(String)\n",
    "    year = Column(Integer)\n",
    "    nationality = Column(String)\n",
    "    sex = Column(Enum('male', 'female'))\n",
    "\n",
    "    def __repr__(self):\n",
    "        return \"<Winner(name='%s', category='%s', year='%s')>\"\\\n",
    "            %(self.name, self.category, self.year)"
   ]
  },
  {
   "cell_type": "code",
   "execution_count": 4,
   "metadata": {},
   "outputs": [],
   "source": [
    "\n",
    "Base.metadata.create_all(engine)"
   ]
  },
  {
   "cell_type": "markdown",
   "metadata": {},
   "source": [
    "## 加入資料"
   ]
  },
  {
   "cell_type": "code",
   "execution_count": 5,
   "metadata": {},
   "outputs": [],
   "source": [
    "nobel_winners = [\n",
    "    {'category':'Physics',\n",
    "    'name':'Albert Einstein',\n",
    "    'nationality':'Swiss',\n",
    "    'sex':'male',\n",
    "    'year':1921,},\n",
    "\n",
    "    {'category':'Physics',\n",
    "    'name':'Paul Dirac',\n",
    "    'nationality':'British',\n",
    "    'sex':'male',\n",
    "    'year':1933,},\n",
    "\n",
    "    {'category':'Physics',\n",
    "    'name':'Marie Curie',\n",
    "    'nationality':'Polish',\n",
    "    'sex':'female',\n",
    "    'year':1911,},\n",
    "]"
   ]
  },
  {
   "cell_type": "markdown",
   "metadata": {},
   "source": [
    "將物件加入工作階段"
   ]
  },
  {
   "cell_type": "code",
   "execution_count": 6,
   "metadata": {},
   "outputs": [
    {
     "data": {
      "text/plain": [
       "IdentitySet([<Winner(name='Albert Einstein', category='Physics', year='1921')>])"
      ]
     },
     "execution_count": 6,
     "metadata": {},
     "output_type": "execute_result"
    }
   ],
   "source": [
    "from sqlalchemy.orm import sessionmaker\n",
    "\n",
    "Session = sessionmaker(bind=engine)\n",
    "session = Session()\n",
    "\n",
    "albert = Winner(**nobel_winners[0])\n",
    "session.add(albert)\n",
    "\n",
    "#new代表剛剛加入此工作階段的任何項目集合\n",
    "session.new   "
   ]
  },
  {
   "cell_type": "markdown",
   "metadata": {},
   "source": [
    "將物件從工作階段移除"
   ]
  },
  {
   "cell_type": "code",
   "execution_count": 12,
   "metadata": {},
   "outputs": [
    {
     "ename": "InvalidRequestError",
     "evalue": "Instance <Winner at 0x7f5fec6e7b80> is not present in this Session",
     "output_type": "error",
     "traceback": [
      "\u001b[0;31m---------------------------------------------------------------------------\u001b[0m",
      "\u001b[0;31mInvalidRequestError\u001b[0m                       Traceback (most recent call last)",
      "\u001b[1;32m/home/megoo/Desktop/Github/dataviz_flask_web/data_processing/sql.ipynb Cell 12'\u001b[0m in \u001b[0;36m<cell line: 1>\u001b[0;34m()\u001b[0m\n\u001b[0;32m----> <a href='vscode-notebook-cell:/home/megoo/Desktop/Github/dataviz_flask_web/data_processing/sql.ipynb#ch0000012?line=0'>1</a>\u001b[0m session\u001b[39m.\u001b[39;49mexpunge(albert)\n\u001b[1;32m      <a href='vscode-notebook-cell:/home/megoo/Desktop/Github/dataviz_flask_web/data_processing/sql.ipynb#ch0000012?line=1'>2</a>\u001b[0m session\u001b[39m.\u001b[39mnew\n",
      "File \u001b[0;32m~/anaconda3/envs/py39/lib/python3.9/site-packages/sqlalchemy/orm/session.py:2471\u001b[0m, in \u001b[0;36mSession.expunge\u001b[0;34m(self, instance)\u001b[0m\n\u001b[1;32m   <a href='file:///home/megoo/anaconda3/envs/py39/lib/python3.9/site-packages/sqlalchemy/orm/session.py?line=2465'>2466</a>\u001b[0m     util\u001b[39m.\u001b[39mraise_(\n\u001b[1;32m   <a href='file:///home/megoo/anaconda3/envs/py39/lib/python3.9/site-packages/sqlalchemy/orm/session.py?line=2466'>2467</a>\u001b[0m         exc\u001b[39m.\u001b[39mUnmappedInstanceError(instance),\n\u001b[1;32m   <a href='file:///home/megoo/anaconda3/envs/py39/lib/python3.9/site-packages/sqlalchemy/orm/session.py?line=2467'>2468</a>\u001b[0m         replace_context\u001b[39m=\u001b[39merr,\n\u001b[1;32m   <a href='file:///home/megoo/anaconda3/envs/py39/lib/python3.9/site-packages/sqlalchemy/orm/session.py?line=2468'>2469</a>\u001b[0m     )\n\u001b[1;32m   <a href='file:///home/megoo/anaconda3/envs/py39/lib/python3.9/site-packages/sqlalchemy/orm/session.py?line=2469'>2470</a>\u001b[0m \u001b[39mif\u001b[39;00m state\u001b[39m.\u001b[39msession_id \u001b[39mis\u001b[39;00m \u001b[39mnot\u001b[39;00m \u001b[39mself\u001b[39m\u001b[39m.\u001b[39mhash_key:\n\u001b[0;32m-> <a href='file:///home/megoo/anaconda3/envs/py39/lib/python3.9/site-packages/sqlalchemy/orm/session.py?line=2470'>2471</a>\u001b[0m     \u001b[39mraise\u001b[39;00m sa_exc\u001b[39m.\u001b[39mInvalidRequestError(\n\u001b[1;32m   <a href='file:///home/megoo/anaconda3/envs/py39/lib/python3.9/site-packages/sqlalchemy/orm/session.py?line=2471'>2472</a>\u001b[0m         \u001b[39m\"\u001b[39m\u001b[39mInstance \u001b[39m\u001b[39m%s\u001b[39;00m\u001b[39m is not present in this Session\u001b[39m\u001b[39m\"\u001b[39m \u001b[39m%\u001b[39m state_str(state)\n\u001b[1;32m   <a href='file:///home/megoo/anaconda3/envs/py39/lib/python3.9/site-packages/sqlalchemy/orm/session.py?line=2472'>2473</a>\u001b[0m     )\n\u001b[1;32m   <a href='file:///home/megoo/anaconda3/envs/py39/lib/python3.9/site-packages/sqlalchemy/orm/session.py?line=2474'>2475</a>\u001b[0m cascaded \u001b[39m=\u001b[39m \u001b[39mlist\u001b[39m(\n\u001b[1;32m   <a href='file:///home/megoo/anaconda3/envs/py39/lib/python3.9/site-packages/sqlalchemy/orm/session.py?line=2475'>2476</a>\u001b[0m     state\u001b[39m.\u001b[39mmanager\u001b[39m.\u001b[39mmapper\u001b[39m.\u001b[39mcascade_iterator(\u001b[39m\"\u001b[39m\u001b[39mexpunge\u001b[39m\u001b[39m\"\u001b[39m, state)\n\u001b[1;32m   <a href='file:///home/megoo/anaconda3/envs/py39/lib/python3.9/site-packages/sqlalchemy/orm/session.py?line=2476'>2477</a>\u001b[0m )\n\u001b[1;32m   <a href='file:///home/megoo/anaconda3/envs/py39/lib/python3.9/site-packages/sqlalchemy/orm/session.py?line=2477'>2478</a>\u001b[0m \u001b[39mself\u001b[39m\u001b[39m.\u001b[39m_expunge_states([state] \u001b[39m+\u001b[39m [st_ \u001b[39mfor\u001b[39;00m o, m, st_, dct_ \u001b[39min\u001b[39;00m cascaded])\n",
      "\u001b[0;31mInvalidRequestError\u001b[0m: Instance <Winner at 0x7f5fec6e7b80> is not present in this Session"
     ]
    }
   ],
   "source": [
    "session.expunge(albert)\n",
    "session.new\n",
    "\n",
    "#如果使用expunge_all()則是移除工作階段所有新加入的物件"
   ]
  },
  {
   "cell_type": "markdown",
   "metadata": {},
   "source": [
    "將資料加入工作階段並提交到資料庫"
   ]
  },
  {
   "cell_type": "code",
   "execution_count": 8,
   "metadata": {},
   "outputs": [],
   "source": [
    "winner_rows = [Winner(**w) for w in nobel_winners]\n",
    "session.add_all(winner_rows)\n",
    "\n",
    "#commit之後才會真正改變資料庫內容\n",
    "# session.commit()"
   ]
  },
  {
   "cell_type": "markdown",
   "metadata": {},
   "source": [
    "## 由資料庫查詢資料\n",
    "\n",
    "SQLAlchemy官方文件：https://docs.sqlalchemy.org/en/14/orm/query.html"
   ]
  },
  {
   "cell_type": "code",
   "execution_count": 9,
   "metadata": {},
   "outputs": [
    {
     "name": "stdout",
     "output_type": "stream",
     "text": [
      "9\n",
      "[<Winner(name='Albert Einstein', category='Physics', year='1921')>, <Winner(name='Albert Einstein', category='Physics', year='1921')>, <Winner(name='Albert Einstein', category='Physics', year='1921')>]\n",
      "[<Winner(name='Paul Dirac', category='Physics', year='1933')>, <Winner(name='Marie Curie', category='Physics', year='1911')>, <Winner(name='Paul Dirac', category='Physics', year='1933')>, <Winner(name='Marie Curie', category='Physics', year='1911')>, <Winner(name='Paul Dirac', category='Physics', year='1933')>, <Winner(name='Marie Curie', category='Physics', year='1911')>]\n",
      "[<Winner(name='Marie Curie', category='Physics', year='1911')>, <Winner(name='Marie Curie', category='Physics', year='1911')>, <Winner(name='Marie Curie', category='Physics', year='1911')>, <Winner(name='Albert Einstein', category='Physics', year='1921')>, <Winner(name='Albert Einstein', category='Physics', year='1921')>, <Winner(name='Albert Einstein', category='Physics', year='1921')>, <Winner(name='Paul Dirac', category='Physics', year='1933')>, <Winner(name='Paul Dirac', category='Physics', year='1933')>, <Winner(name='Paul Dirac', category='Physics', year='1933')>]\n"
     ]
    }
   ],
   "source": [
    "# 計算表格有幾列\n",
    "n = session.query(Winner).count()\n",
    "print(n)\n",
    "\n",
    "# 諾貝爾獎瑞士人得主有誰\n",
    "result = session.query(Winner).filter_by(nationality='Swiss')\n",
    "print(list(result))\n",
    "\n",
    "# 不是瑞士人的物理獎得主有誰\n",
    "result2 = session.query(Winner).filter(Winner.category == 'Physics', Winner.nationality != 'Swiss')\n",
    "print(list(result2))\n",
    "\n",
    "#以年份排序\n",
    "result3 = session.query(Winner).order_by('year')\n",
    "print(list(result3))"
   ]
  },
  {
   "cell_type": "markdown",
   "metadata": {},
   "source": [
    "丟棄整個表格"
   ]
  },
  {
   "cell_type": "code",
   "execution_count": null,
   "metadata": {},
   "outputs": [],
   "source": [
    "Winner.__table__.drop(engine)"
   ]
  },
  {
   "cell_type": "markdown",
   "metadata": {},
   "source": [
    "將SQLAlchemy實體轉成dict"
   ]
  },
  {
   "cell_type": "code",
   "execution_count": 10,
   "metadata": {},
   "outputs": [],
   "source": [
    "def inst_to_dict(inst, delete_id=True):\n",
    "    dat = {}\n",
    "    for column in inst.__table__.columns:\n",
    "        dat[column.name] = getattr(inst, column.name)\n",
    "    if delete_id:\n",
    "        dat.pop('id')\n",
    "    \n",
    "    return dat"
   ]
  },
  {
   "cell_type": "code",
   "execution_count": 11,
   "metadata": {},
   "outputs": [
    {
     "data": {
      "text/plain": [
       "[{'name': 'Albert Einstein',\n",
       "  'category': 'Physics',\n",
       "  'year': 1921,\n",
       "  'nationality': 'Swiss',\n",
       "  'sex': 'male'},\n",
       " {'name': 'Paul Dirac',\n",
       "  'category': 'Physics',\n",
       "  'year': 1933,\n",
       "  'nationality': 'British',\n",
       "  'sex': 'male'},\n",
       " {'name': 'Marie Curie',\n",
       "  'category': 'Physics',\n",
       "  'year': 1911,\n",
       "  'nationality': 'Polish',\n",
       "  'sex': 'female'}]"
      ]
     },
     "execution_count": 11,
     "metadata": {},
     "output_type": "execute_result"
    }
   ],
   "source": [
    "winners_rows = session.query(Winner)\n",
    "nobel_winners = [inst_to_dict(w) for w in winner_rows]\n",
    "\n",
    "nobel_winners"
   ]
  },
  {
   "cell_type": "markdown",
   "metadata": {},
   "source": [
    "### 模組：Dataset - 簡化SQL存取程序\n",
    "\n",
    "官方文件：https://dataset.readthedocs.io/en/latest/install.html"
   ]
  },
  {
   "cell_type": "code",
   "execution_count": 25,
   "metadata": {},
   "outputs": [],
   "source": [
    "import dataset\n",
    "\n",
    "db = dataset.connect('sqlite:///data/nobel_prize.db')"
   ]
  },
  {
   "cell_type": "code",
   "execution_count": 26,
   "metadata": {},
   "outputs": [
    {
     "name": "stdout",
     "output_type": "stream",
     "text": [
      "[OrderedDict([('id', 1), ('name', 'Albert Einstein'), ('category', 'Physics'), ('year', 1921), ('nationality', 'Swiss'), ('sex', 'male')]), OrderedDict([('id', 2), ('name', 'Paul Dirac'), ('category', 'Physics'), ('year', 1933), ('nationality', 'British'), ('sex', 'male')]), OrderedDict([('id', 3), ('name', 'Marie Curie'), ('category', 'Physics'), ('year', 1911), ('nationality', 'Polish'), ('sex', 'female')]), OrderedDict([('id', 4), ('name', 'Albert Einstein'), ('category', 'Physics'), ('year', 1921), ('nationality', 'Swiss'), ('sex', 'male')]), OrderedDict([('id', 5), ('name', 'Paul Dirac'), ('category', 'Physics'), ('year', 1933), ('nationality', 'British'), ('sex', 'male')]), OrderedDict([('id', 6), ('name', 'Marie Curie'), ('category', 'Physics'), ('year', 1911), ('nationality', 'Polish'), ('sex', 'female')])]\n"
     ]
    }
   ],
   "source": [
    "wtable = db['winners']\n",
    "winners = wtable.find()\n",
    "winners = list(winners)\n",
    "print(winners)"
   ]
  },
  {
   "cell_type": "code",
   "execution_count": 30,
   "metadata": {},
   "outputs": [
    {
     "data": {
      "text/plain": [
       "[]"
      ]
     },
     "execution_count": 30,
     "metadata": {},
     "output_type": "execute_result"
    }
   ],
   "source": [
    "wtable = db['winners']\n",
    "wtable.drop()\n",
    "\n",
    "list(wtable.find())"
   ]
  },
  {
   "cell_type": "markdown",
   "metadata": {},
   "source": [
    "資料庫的transaction\n",
    "\n",
    "參考文件：https://dataset.readthedocs.io/en/latest/quickstart.html?highlight=tx#using-transactions"
   ]
  },
  {
   "cell_type": "code",
   "execution_count": 31,
   "metadata": {},
   "outputs": [
    {
     "name": "stderr",
     "output_type": "stream",
     "text": [
      "/home/megoo/anaconda3/envs/py39/lib/python3.9/site-packages/dataset/table.py:313: RuntimeWarning: Changing the database schema inside a transaction in a multi-threaded environment is likely to lead to race conditions and synchronization issues.\n",
      "  warnings.warn(\n"
     ]
    },
    {
     "data": {
      "text/plain": [
       "[OrderedDict([('id', 1),\n",
       "              ('name', 'Albert Einstein'),\n",
       "              ('category', 'Physics'),\n",
       "              ('year', 1921),\n",
       "              ('nationality', 'Swiss'),\n",
       "              ('sex', 'male')]),\n",
       " OrderedDict([('id', 2),\n",
       "              ('name', 'Paul Dirac'),\n",
       "              ('category', 'Physics'),\n",
       "              ('year', 1933),\n",
       "              ('nationality', 'British'),\n",
       "              ('sex', 'male')]),\n",
       " OrderedDict([('id', 3),\n",
       "              ('name', 'Marie Curie'),\n",
       "              ('category', 'Physics'),\n",
       "              ('year', 1911),\n",
       "              ('nationality', 'Polish'),\n",
       "              ('sex', 'female')])]"
      ]
     },
     "execution_count": 31,
     "metadata": {},
     "output_type": "execute_result"
    }
   ],
   "source": [
    "with db as tx:\n",
    "    for w in nobel_winners:\n",
    "        tx['winners'].insert(w)\n",
    "\n",
    "list(db['winners'].find())\n",
    "\n",
    "#順序可被OrderedDict記住"
   ]
  },
  {
   "cell_type": "markdown",
   "metadata": {},
   "source": [
    "#### freeze\n",
    "\n",
    "現在已獨立為一個套件：datafreeze\n",
    "\n",
    "要另外安裝：pip install datafreeze\n",
    "\n",
    "參考：https://github.com/pudo/datafreeze\n",
    "\n",
    "freeze可把某次SQL的查詢結果轉成JSON或CSV的檔案"
   ]
  },
  {
   "cell_type": "code",
   "execution_count": 34,
   "metadata": {},
   "outputs": [
    {
     "data": {
      "text/plain": [
       "'id,name,category,year,nationality,sex\\n1,Albert Einstein,Physics,1921,Swiss,male\\n2,Paul Dirac,Physics,1933,British,male\\n3,Marie Curie,Physics,1911,Polish,female\\n'"
      ]
     },
     "execution_count": 34,
     "metadata": {},
     "output_type": "execute_result"
    }
   ],
   "source": [
    "from datafreeze import freeze\n",
    "\n",
    "winners = db['winners'].find()\n",
    "\n",
    "freeze(winners, format='csv', filename='data/nobel_winners_ds.csv')\n",
    "open('data/nobel_winners_ds.csv').read()"
   ]
  }
 ],
 "metadata": {
  "interpreter": {
   "hash": "3ea411558193590a36ae13098a0c4cbd8470d1e8b26095cfed8afcd8def61a55"
  },
  "kernelspec": {
   "display_name": "Python 3.9.12 ('py39')",
   "language": "python",
   "name": "python3"
  },
  "language_info": {
   "codemirror_mode": {
    "name": "ipython",
    "version": 3
   },
   "file_extension": ".py",
   "mimetype": "text/x-python",
   "name": "python",
   "nbconvert_exporter": "python",
   "pygments_lexer": "ipython3",
   "version": "3.9.12"
  },
  "orig_nbformat": 4
 },
 "nbformat": 4,
 "nbformat_minor": 2
}
