{
 "cells": [
  {
   "cell_type": "markdown",
   "metadata": {},
   "source": [
    "## 建立資料庫引擎"
   ]
  },
  {
   "cell_type": "code",
   "execution_count": 25,
   "metadata": {},
   "outputs": [],
   "source": [
    "from sqlalchemy import create_engine\n",
    "\n",
    "engine = create_engine('sqlite+pysqlite:///:memory:\", echo=True, future=True')"
   ]
  },
  {
   "cell_type": "markdown",
   "metadata": {},
   "source": [
    "## 定義資料庫表格"
   ]
  },
  {
   "cell_type": "markdown",
   "metadata": {},
   "source": [
    "這裡可參考：https://docs.sqlalchemy.org/en/13/orm/extensions/declarative/basic_use.html"
   ]
  },
  {
   "cell_type": "code",
   "execution_count": 26,
   "metadata": {},
   "outputs": [],
   "source": [
    "from sqlalchemy.ext.declarative import declarative_base\n",
    "\n",
    "Base = declarative_base()"
   ]
  },
  {
   "cell_type": "code",
   "execution_count": 27,
   "metadata": {},
   "outputs": [],
   "source": [
    "from sqlalchemy import Column, Integer, String, Enum\n",
    "\n",
    "class Winner(Base):\n",
    "\n",
    "    # 命名SQL表格\n",
    "    __tablename__ = 'winners'\n",
    "\n",
    "    id = Column(Integer, primary_key=True)\n",
    "    name = Column(String)\n",
    "    category = Column(String)\n",
    "    year = Column(Integer)\n",
    "    nationality = Column(String)\n",
    "    sex = Column(Enum('male', 'female'))\n",
    "\n",
    "    def __repr__(self):\n",
    "        return \"<Winner(name='%s', category='%s', year='%s')>\"\\\n",
    "            %(self.name, self.category, self.year)"
   ]
  },
  {
   "cell_type": "code",
   "execution_count": 28,
   "metadata": {},
   "outputs": [],
   "source": [
    "\n",
    "Base.metadata.create_all(engine)"
   ]
  },
  {
   "cell_type": "markdown",
   "metadata": {},
   "source": [
    "## 加入資料"
   ]
  },
  {
   "cell_type": "code",
   "execution_count": 29,
   "metadata": {},
   "outputs": [],
   "source": [
    "nobel_winners = [\n",
    "    {'category':'Physics',\n",
    "    'name':'Albert Einstein',\n",
    "    'nationality':'Swiss',\n",
    "    'sex':'male',\n",
    "    'year':1921,},\n",
    "\n",
    "    {'category':'Physics',\n",
    "    'name':'Paul Dirac',\n",
    "    'nationality':'British',\n",
    "    'sex':'male',\n",
    "    'year':1933,},\n",
    "\n",
    "    {'category':'Physics',\n",
    "    'name':'Marie Curie',\n",
    "    'nationality':'Polish',\n",
    "    'sex':'female',\n",
    "    'year':1911,},\n",
    "]"
   ]
  },
  {
   "cell_type": "code",
   "execution_count": 30,
   "metadata": {},
   "outputs": [
    {
     "data": {
      "text/plain": [
       "IdentitySet([<Winner(name='Albert Einstein', category='Physics', year='1921')>])"
      ]
     },
     "execution_count": 30,
     "metadata": {},
     "output_type": "execute_result"
    }
   ],
   "source": [
    "from sqlalchemy.orm import sessionmaker\n",
    "\n",
    "Session = sessionmaker(bind=engine)\n",
    "session = Session()\n",
    "\n",
    "albert = Winner(**nobel_winners[0])\n",
    "session.add(albert)\n",
    "\n",
    "#new代表剛剛加入此工作階段的任何項目集合\n",
    "session.new   "
   ]
  }
 ],
 "metadata": {
  "interpreter": {
   "hash": "3ea411558193590a36ae13098a0c4cbd8470d1e8b26095cfed8afcd8def61a55"
  },
  "kernelspec": {
   "display_name": "Python 3.9.12 ('py39')",
   "language": "python",
   "name": "python3"
  },
  "language_info": {
   "codemirror_mode": {
    "name": "ipython",
    "version": 3
   },
   "file_extension": ".py",
   "mimetype": "text/x-python",
   "name": "python",
   "nbconvert_exporter": "python",
   "pygments_lexer": "ipython3",
   "version": "3.9.12"
  },
  "orig_nbformat": 4
 },
 "nbformat": 4,
 "nbformat_minor": 2
}
