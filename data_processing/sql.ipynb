{
 "cells": [
  {
   "cell_type": "markdown",
   "metadata": {},
   "source": [
    "## 建立資料庫引擎"
   ]
  },
  {
   "cell_type": "code",
   "execution_count": 1,
   "metadata": {},
   "outputs": [],
   "source": [
    "from sqlalchemy import create_engine\n",
    "\n",
    "engine = create_engine('sqlite+pysqlite:///data/nobel_prize\", echo=True, future=True')"
   ]
  },
  {
   "cell_type": "markdown",
   "metadata": {},
   "source": [
    "## 定義資料庫表格\n",
    "\n",
    "這裡可參考：https://docs.sqlalchemy.org/en/13/orm/extensions/declarative/basic_use.html"
   ]
  },
  {
   "cell_type": "code",
   "execution_count": 2,
   "metadata": {},
   "outputs": [],
   "source": [
    "from sqlalchemy.ext.declarative import declarative_base\n",
    "\n",
    "Base = declarative_base()"
   ]
  },
  {
   "cell_type": "code",
   "execution_count": 3,
   "metadata": {},
   "outputs": [],
   "source": [
    "from sqlalchemy import Column, Integer, String, Enum\n",
    "\n",
    "class Winner(Base):\n",
    "\n",
    "    # 命名SQL表格\n",
    "    __tablename__ = 'winners'\n",
    "\n",
    "    id = Column(Integer, primary_key=True)\n",
    "    name = Column(String)\n",
    "    category = Column(String)\n",
    "    year = Column(Integer)\n",
    "    nationality = Column(String)\n",
    "    sex = Column(Enum('male', 'female'))\n",
    "\n",
    "    def __repr__(self):\n",
    "        return \"<Winner(name='%s', category='%s', year='%s')>\"\\\n",
    "            %(self.name, self.category, self.year)"
   ]
  },
  {
   "cell_type": "code",
   "execution_count": 4,
   "metadata": {},
   "outputs": [],
   "source": [
    "\n",
    "Base.metadata.create_all(engine)"
   ]
  },
  {
   "cell_type": "markdown",
   "metadata": {},
   "source": [
    "## 加入資料"
   ]
  },
  {
   "cell_type": "code",
   "execution_count": 5,
   "metadata": {},
   "outputs": [],
   "source": [
    "nobel_winners = [\n",
    "    {'category':'Physics',\n",
    "    'name':'Albert Einstein',\n",
    "    'nationality':'Swiss',\n",
    "    'sex':'male',\n",
    "    'year':1921,},\n",
    "\n",
    "    {'category':'Physics',\n",
    "    'name':'Paul Dirac',\n",
    "    'nationality':'British',\n",
    "    'sex':'male',\n",
    "    'year':1933,},\n",
    "\n",
    "    {'category':'Physics',\n",
    "    'name':'Marie Curie',\n",
    "    'nationality':'Polish',\n",
    "    'sex':'female',\n",
    "    'year':1911,},\n",
    "]"
   ]
  },
  {
   "cell_type": "markdown",
   "metadata": {},
   "source": [
    "將物件加入工作階段"
   ]
  },
  {
   "cell_type": "code",
   "execution_count": 6,
   "metadata": {},
   "outputs": [
    {
     "data": {
      "text/plain": [
       "IdentitySet([<Winner(name='Albert Einstein', category='Physics', year='1921')>])"
      ]
     },
     "execution_count": 6,
     "metadata": {},
     "output_type": "execute_result"
    }
   ],
   "source": [
    "from sqlalchemy.orm import sessionmaker\n",
    "\n",
    "Session = sessionmaker(bind=engine)\n",
    "session = Session()\n",
    "\n",
    "albert = Winner(**nobel_winners[0])\n",
    "session.add(albert)\n",
    "\n",
    "#new代表剛剛加入此工作階段的任何項目集合\n",
    "session.new   "
   ]
  },
  {
   "cell_type": "markdown",
   "metadata": {},
   "source": [
    "將物件從工作階段移除"
   ]
  },
  {
   "cell_type": "code",
   "execution_count": 14,
   "metadata": {},
   "outputs": [
    {
     "data": {
      "text/plain": [
       "IdentitySet([])"
      ]
     },
     "execution_count": 14,
     "metadata": {},
     "output_type": "execute_result"
    }
   ],
   "source": [
    "session.expunge(albert)\n",
    "session.new\n",
    "\n",
    "#如果使用expunge_all()則是移除工作階段所有新加入的物件"
   ]
  },
  {
   "cell_type": "markdown",
   "metadata": {},
   "source": [
    "將資料加入工作階段並提交到資料庫"
   ]
  },
  {
   "cell_type": "code",
   "execution_count": 7,
   "metadata": {},
   "outputs": [],
   "source": [
    "winner_rows = [Winner(**w) for w in nobel_winners]\n",
    "session.add_all(winner_rows)\n",
    "\n",
    "# commit之後才會真正改變資料庫內容\n",
    "session.commit()"
   ]
  },
  {
   "cell_type": "markdown",
   "metadata": {},
   "source": [
    "## 由資料庫查詢資料\n",
    "\n",
    "SQLAlchemy官方文件：https://docs.sqlalchemy.org/en/14/orm/query.html"
   ]
  },
  {
   "cell_type": "code",
   "execution_count": 8,
   "metadata": {},
   "outputs": [
    {
     "name": "stdout",
     "output_type": "stream",
     "text": [
      "4\n",
      "[<Winner(name='Albert Einstein', category='Physics', year='1921')>, <Winner(name='Albert Einstein', category='Physics', year='1921')>]\n",
      "[<Winner(name='Paul Dirac', category='Physics', year='1933')>, <Winner(name='Marie Curie', category='Physics', year='1911')>]\n",
      "[<Winner(name='Marie Curie', category='Physics', year='1911')>, <Winner(name='Albert Einstein', category='Physics', year='1921')>, <Winner(name='Albert Einstein', category='Physics', year='1921')>, <Winner(name='Paul Dirac', category='Physics', year='1933')>]\n"
     ]
    }
   ],
   "source": [
    "# 計算表格有幾列\n",
    "n = session.query(Winner).count()\n",
    "print(n)\n",
    "\n",
    "# 諾貝爾獎瑞士人得主有誰\n",
    "result = session.query(Winner).filter_by(nationality='Swiss')\n",
    "print(list(result))\n",
    "\n",
    "# 不是瑞士人的物理獎得主有誰\n",
    "result2 = session.query(Winner).filter(Winner.category == 'Physics', Winner.nationality != 'Swiss')\n",
    "print(list(result2))\n",
    "\n",
    "#以年份排序\n",
    "result3 = session.query(Winner).order_by('year')\n",
    "print(list(result3))"
   ]
  },
  {
   "cell_type": "markdown",
   "metadata": {},
   "source": [
    "丟棄整個表格"
   ]
  },
  {
   "cell_type": "code",
   "execution_count": 9,
   "metadata": {},
   "outputs": [],
   "source": [
    "Winner.__table__.drop(engine)"
   ]
  },
  {
   "cell_type": "markdown",
   "metadata": {},
   "source": [
    "將SQLAlchemy實體轉成dict"
   ]
  },
  {
   "cell_type": "code",
   "execution_count": 10,
   "metadata": {},
   "outputs": [],
   "source": [
    "def inst_to_dict(inst, delete_id=True):\n",
    "    dat = {}\n",
    "    for column in inst.__table__.columns:\n",
    "        dat[column.name] = getattr(inst, column.name)\n",
    "    if delete_id:\n",
    "        dat.pop('id')\n",
    "    \n",
    "    return dat"
   ]
  },
  {
   "cell_type": "code",
   "execution_count": 11,
   "metadata": {},
   "outputs": [
    {
     "data": {
      "text/plain": [
       "[{'name': 'Albert Einstein',\n",
       "  'category': 'Physics',\n",
       "  'year': 1921,\n",
       "  'nationality': 'Swiss',\n",
       "  'sex': 'male'},\n",
       " {'name': 'Paul Dirac',\n",
       "  'category': 'Physics',\n",
       "  'year': 1933,\n",
       "  'nationality': 'British',\n",
       "  'sex': 'male'},\n",
       " {'name': 'Marie Curie',\n",
       "  'category': 'Physics',\n",
       "  'year': 1911,\n",
       "  'nationality': 'Polish',\n",
       "  'sex': 'female'}]"
      ]
     },
     "execution_count": 11,
     "metadata": {},
     "output_type": "execute_result"
    }
   ],
   "source": [
    "winners_rows = session.query(Winner)\n",
    "nobel_winners = [inst_to_dict(w) for w in winner_rows]\n",
    "\n",
    "nobel_winners"
   ]
  },
  {
   "cell_type": "markdown",
   "metadata": {},
   "source": [
    "### 模組：Dataset - 簡化SQL存取程序\n",
    "\n",
    "官方文件：https://dataset.readthedocs.io/en/latest/install.html"
   ]
  },
  {
   "cell_type": "code",
   "execution_count": 12,
   "metadata": {},
   "outputs": [],
   "source": [
    "import dataset\n",
    "\n",
    "db = dataset.connect('sqlite:///data/nobel_prize.db')"
   ]
  },
  {
   "cell_type": "code",
   "execution_count": 13,
   "metadata": {},
   "outputs": [
    {
     "name": "stdout",
     "output_type": "stream",
     "text": [
      "[OrderedDict([('id', 1), ('name', 'Albert Einstein'), ('category', 'Physics'), ('year', 1921), ('nationality', 'Swiss'), ('sex', 'male')]), OrderedDict([('id', 2), ('name', 'Paul Dirac'), ('category', 'Physics'), ('year', 1933), ('nationality', 'British'), ('sex', 'male')]), OrderedDict([('id', 3), ('name', 'Marie Curie'), ('category', 'Physics'), ('year', 1911), ('nationality', 'Polish'), ('sex', 'female')])]\n"
     ]
    }
   ],
   "source": [
    "wtable = db['winners']\n",
    "winners = wtable.find()\n",
    "winners = list(winners)\n",
    "print(winners)"
   ]
  },
  {
   "cell_type": "code",
   "execution_count": 14,
   "metadata": {},
   "outputs": [
    {
     "data": {
      "text/plain": [
       "[]"
      ]
     },
     "execution_count": 14,
     "metadata": {},
     "output_type": "execute_result"
    }
   ],
   "source": [
    "wtable = db['winners']\n",
    "wtable.drop()\n",
    "\n",
    "list(wtable.find())"
   ]
  },
  {
   "cell_type": "markdown",
   "metadata": {},
   "source": [
    "資料庫的transaction\n",
    "\n",
    "參考文件：https://dataset.readthedocs.io/en/latest/quickstart.html?highlight=tx#using-transactions"
   ]
  },
  {
   "cell_type": "code",
   "execution_count": 15,
   "metadata": {},
   "outputs": [
    {
     "name": "stderr",
     "output_type": "stream",
     "text": [
      "/home/megoo/anaconda3/envs/py39/lib/python3.9/site-packages/dataset/table.py:313: RuntimeWarning: Changing the database schema inside a transaction in a multi-threaded environment is likely to lead to race conditions and synchronization issues.\n",
      "  warnings.warn(\n"
     ]
    },
    {
     "data": {
      "text/plain": [
       "[OrderedDict([('id', 1),\n",
       "              ('name', 'Albert Einstein'),\n",
       "              ('category', 'Physics'),\n",
       "              ('year', 1921),\n",
       "              ('nationality', 'Swiss'),\n",
       "              ('sex', 'male')]),\n",
       " OrderedDict([('id', 2),\n",
       "              ('name', 'Paul Dirac'),\n",
       "              ('category', 'Physics'),\n",
       "              ('year', 1933),\n",
       "              ('nationality', 'British'),\n",
       "              ('sex', 'male')]),\n",
       " OrderedDict([('id', 3),\n",
       "              ('name', 'Marie Curie'),\n",
       "              ('category', 'Physics'),\n",
       "              ('year', 1911),\n",
       "              ('nationality', 'Polish'),\n",
       "              ('sex', 'female')])]"
      ]
     },
     "execution_count": 15,
     "metadata": {},
     "output_type": "execute_result"
    }
   ],
   "source": [
    "with db as tx:\n",
    "    for w in nobel_winners:\n",
    "        tx['winners'].insert(w)\n",
    "\n",
    "list(db['winners'].find())\n",
    "\n",
    "#順序可被OrderedDict記住"
   ]
  },
  {
   "cell_type": "markdown",
   "metadata": {},
   "source": [
    "#### freeze\n",
    "\n",
    "現在已獨立為一個套件：datafreeze\n",
    "\n",
    "要另外安裝：pip install datafreeze\n",
    "\n",
    "參考：https://github.com/pudo/datafreeze\n",
    "\n",
    "freeze可把某次SQL的查詢結果轉成JSON或CSV的檔案"
   ]
  },
  {
   "cell_type": "code",
   "execution_count": 16,
   "metadata": {},
   "outputs": [
    {
     "data": {
      "text/plain": [
       "'id,name,category,year,nationality,sex\\n1,Albert Einstein,Physics,1921,Swiss,male\\n2,Paul Dirac,Physics,1933,British,male\\n3,Marie Curie,Physics,1911,Polish,female\\n'"
      ]
     },
     "execution_count": 16,
     "metadata": {},
     "output_type": "execute_result"
    }
   ],
   "source": [
    "from datafreeze import freeze\n",
    "\n",
    "winners = db['winners'].find()\n",
    "\n",
    "freeze(winners, format='csv', filename='data/nobel_winners_ds.csv')\n",
    "open('data/nobel_winners_ds.csv').read()"
   ]
  },
  {
   "cell_type": "markdown",
   "metadata": {},
   "source": [
    "# 建立MongoDB資料庫\n",
    "\n",
    "\n"
   ]
  },
  {
   "cell_type": "markdown",
   "metadata": {},
   "source": [
    "#### 存取MongoDB資料庫"
   ]
  },
  {
   "cell_type": "code",
   "execution_count": 35,
   "metadata": {},
   "outputs": [],
   "source": [
    "from pymongo import MongoClient\n",
    "\n",
    "# Making Connection\n",
    "myclient = MongoClient('mongodb://localhost:27017/')\n",
    "\n",
    "# database\n",
    "db = myclient['nobel_prize']\n",
    "\n",
    "# created or switched to collection\n",
    "collection = db['winners']\n",
    "\n"
   ]
  },
  {
   "cell_type": "code",
   "execution_count": 42,
   "metadata": {},
   "outputs": [],
   "source": [
    "# insert data to the collection\n",
    "win_id1 = collection.insert_many(nobel_winners)"
   ]
  },
  {
   "cell_type": "code",
   "execution_count": 44,
   "metadata": {},
   "outputs": [
    {
     "data": {
      "text/plain": [
       "[{'name': 'Albert Einstein',\n",
       "  'category': 'Physics',\n",
       "  'year': 1921,\n",
       "  'nationality': 'Swiss',\n",
       "  'sex': 'male',\n",
       "  '_id': ObjectId('62c2cacd9a2871e86d0d33f7')},\n",
       " {'name': 'Paul Dirac',\n",
       "  'category': 'Physics',\n",
       "  'year': 1933,\n",
       "  'nationality': 'British',\n",
       "  'sex': 'male',\n",
       "  '_id': ObjectId('62c2d5839a2871e86d0d33ff')},\n",
       " {'name': 'Marie Curie',\n",
       "  'category': 'Physics',\n",
       "  'year': 1911,\n",
       "  'nationality': 'Polish',\n",
       "  'sex': 'female',\n",
       "  '_id': ObjectId('62c2d5b79a2871e86d0d3400')}]"
      ]
     },
     "execution_count": 44,
     "metadata": {},
     "output_type": "execute_result"
    }
   ],
   "source": [
    "nobel_winners"
   ]
  },
  {
   "cell_type": "markdown",
   "metadata": {},
   "source": [
    "MongoDB各種find()用法：https://www.mongodb.com/docs/manual/reference/method/db.collection.find/"
   ]
  },
  {
   "cell_type": "code",
   "execution_count": 45,
   "metadata": {},
   "outputs": [
    {
     "data": {
      "text/plain": [
       "[{'_id': ObjectId('62c2cacd9a2871e86d0d33f7'),\n",
       "  'name': 'Albert Einstein',\n",
       "  'category': 'Physics',\n",
       "  'year': 1921,\n",
       "  'nationality': 'Swiss',\n",
       "  'sex': 'male'}]"
      ]
     },
     "execution_count": 45,
     "metadata": {},
     "output_type": "execute_result"
    }
   ],
   "source": [
    "res = collection.find({'name':'Albert Einstein'})\n",
    "list(res)"
   ]
  }
 ],
 "metadata": {
  "interpreter": {
   "hash": "3ea411558193590a36ae13098a0c4cbd8470d1e8b26095cfed8afcd8def61a55"
  },
  "kernelspec": {
   "display_name": "Python 3.9.12 ('py39')",
   "language": "python",
   "name": "python3"
  },
  "language_info": {
   "codemirror_mode": {
    "name": "ipython",
    "version": 3
   },
   "file_extension": ".py",
   "mimetype": "text/x-python",
   "name": "python",
   "nbconvert_exporter": "python",
   "pygments_lexer": "ipython3",
   "version": "3.9.12"
  },
  "orig_nbformat": 4
 },
 "nbformat": 4,
 "nbformat_minor": 2
}
